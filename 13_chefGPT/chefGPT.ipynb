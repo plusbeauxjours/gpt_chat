{
 "cells": [
  {
   "cell_type": "code",
   "execution_count": 6,
   "metadata": {},
   "outputs": [
    {
     "data": {
      "text/plain": [
       "[Document(page_content=': 298\\nhref: https://veganuary.com/recipes/red-tofu-curry/\\ntitle: Red Tofu Curry\\ningredients: Ingredients\\n\\n1 tablespoon canola oil\\n1 (12-ounce) package extra-firm tofu, cut into ½-inch cubes and pressed to reduce excess water\\n3 cups baby carrots, halved\\xa0lengthwise\\n2 cups peeled red or Yukon potatoes, chopped into bite-size pieces\\n2 medium yellow onions, diced\\n3 teaspoons minced garlic (6 cloves)\\n1 (1-inch) piece fresh ginger, peeled and minced\\n1¾ cups water\\n1 cup canned unsweetened coconut milk\\n1 ½ tablespoons red curry paste\\n1 vegetable bouillon cube\\n½ teaspoon salt\\nCooked rice, for serving\\nFresh cilantro, for garnish\\npreparation: Method\\n\\nIn a skillet over medium-high heat, heat the oil. Add the tofu and brown until the edges are crisp, about 5 minutes.\\nCombine the tofu, baby carrots, potatoes, onions, garlic, ginger, water, coconut milk, red curry paste, bouillon cube, and salt in a slow cooker; mix well.\\nCover and cook on low for 6 to 8 hours or on high for 3 to 4 hours.\\nServe over rice and garnished with cilantro.', metadata={'row': 298.0, 'source': '../recipes.csv'}),\n",
       " Document(page_content=': 82\\nhref: https://veganuary.com/recipes/sizzling-tofu/\\ntitle: Sesame Ginger Tofu\\ningredients: Ingredients\\n\\n1 pack firm tofu\\n2 tsp sesame oil\\n2 tsp minced ginger\\n4 spring onions, sliced into thin rounds\\n1 Tbsp shoyu sauce\\nJuice squeezed from fresh ginger\\npreparation: Method\\n\\nPress the tofu in paper towels to remove excess liquid.\\nSlice the tofu lengthwise in half, then widthwise into ½ inch thick pieces.\\nHeat the oil in a frying pan over medium heat, sauté the ginger and spring onions over medium heat for a minute and then add the tofu slices to the pan and cook on either side, sprinkling with shoyu sauce.\\nSeason with a little more shoyu and then squeeze the ginger juice over the tofu.\\nLet everything sizzle for a minute or two.\\nServe with a selection of sautéed vegetables of your choice.', metadata={'row': 82.0, 'source': '../recipes.csv'}),\n",
       " Document(page_content=': 308\\nhref: https://veganuary.com/recipes/tofu-scramble/\\ntitle: Tofu Scramble\\ningredients: Ingredients\\n\\n1 tablespoon toasted sesame oil\\n1 onion finely diced\\n1 block fresh tofu\\n1 tsp turmeric\\n3 spring onions, very thinly sliced on the diagonal\\nJar of sweetcorn (organic)\\n2 tablespoons shoyu sauce\\n1 red pepper, seeded and diced\\n1 sheet of nori seaweed, cut into small pieces or ¼ cup nori pieces\\n½ cup fresh coriander, stalks removed and finely diced\\n1 tablespoon toasted black sesame seeds\\nParsley, minced for garnish\\npreparation: Method\\nHeat the oil in a heavy frying pan over a medium heat.\\nAdd the onion and sauté for 3 minutes.\\nAdd the red pepper and turmeric and sauté for a further 2 or 3 minutes.\\nAdd the corn and spring onions to the pan and sauté for a few minutes.\\nWith your hands, crumble the tofu into the pan.\\nAdd the fresh coriander, shoyu to taste and a small drop of water and scramble the tofu for 5 minutes.\\nSprinkle the parsley and black sesame seeds, and serve hot with a crusty whole grain baguette or sourdough soft, or toasted.', metadata={'row': 308.0, 'source': '../recipes.csv'}),\n",
       " Document(page_content=': 536\\nhref: https://veganuary.com/recipes/tofu-noodle-broth/\\ntitle: Tofu Noodle Broth\\ningredients: Ingredients\\n\\n350g firm tofu (or other alternative such as tempeh or seitan)\\n1.2 litres vegetable stock\\n1 clove garlic, chopped\\n1 red chilli, chopped (de-seeded for less heat)\\n1 large carrot, julienned\\n1/2 red pepper, julienned\\n1 small head of Swiss chard or bok choi or other greens\\n3 tbsp dry sherry (check for a vegan kind)\\n3 tbsp dark soy sauce\\n1 tsp miso paste\\n75g fine wholewheat noodles (egg free)\\npreparation: Method\\n\\nPour the vegetable stock into a large pan and add the garlic, chilli, vegetables, sherry and soy sauce.\\nBring to boiling, then turn the heat down and simmer gently for 10 minutes.\\nAdd the cubed tofu, miso paste and noodles and cook until the noodles are cooked according to package instructions.\\nSeason with soy sauce if necessary.\\nLadle the broth into bowls, garnish with shredded spring onions and extra slices of chilli.', metadata={'row': 536.0, 'source': '../recipes.csv'})]"
      ]
     },
     "execution_count": 6,
     "metadata": {},
     "output_type": "execute_result"
    }
   ],
   "source": [
    "import pinecone\n",
    "import os\n",
    "from langchain.embeddings import OpenAIEmbeddings\n",
    "from langchain.vectorstores import Pinecone\n",
    "from langchain.document_loaders import CSVLoader\n",
    "from langchain.text_splitter import RecursiveCharacterTextSplitter\n",
    "\n",
    "pinecone.init(\n",
    "    api_key=os.getenv(\"PINECONE_API_KEY\"),\n",
    "    environment=\"gcp-starter\",\n",
    ")\n",
    "\n",
    "# splitter = RecursiveCharacterTextSplitter.from_tiktoken_encoder()\n",
    "# loader = CSVLoader(\"../recipes.csv\")\n",
    "# docs = loader.load_and_split(text_splitter=splitter)\n",
    "# embeddings = OpenAIEmbeddings()\n",
    "# vector_store = Pinecone.from_documents(docs, embeddings, index_name=\"chefgpt\")\n",
    "\n",
    "embeddings = OpenAIEmbeddings()\n",
    "\n",
    "vector_store = Pinecone.from_existing_index(\n",
    "    \"chefgpt\",\n",
    "    embeddings,\n",
    ")\n",
    "\n",
    "docs = vector_store.similarity_search(\"tofu\")\n",
    "\n",
    "docs"
   ]
  },
  {
   "cell_type": "code",
   "execution_count": null,
   "metadata": {},
   "outputs": [],
   "source": []
  }
 ],
 "metadata": {
  "kernelspec": {
   "display_name": "env",
   "language": "python",
   "name": "python3"
  },
  "language_info": {
   "codemirror_mode": {
    "name": "ipython",
    "version": 3
   },
   "file_extension": ".py",
   "mimetype": "text/x-python",
   "name": "python",
   "nbconvert_exporter": "python",
   "pygments_lexer": "ipython3",
   "version": "3.11.7"
  }
 },
 "nbformat": 4,
 "nbformat_minor": 2
}
