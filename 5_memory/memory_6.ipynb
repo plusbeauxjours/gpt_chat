{
 "cells": [
  {
   "cell_type": "code",
   "execution_count": 9,
   "metadata": {},
   "outputs": [
    {
     "name": "stdout",
     "output_type": "stream",
     "text": [
      "\n",
      "\n",
      "\u001b[1m> Entering new LLMChain chain...\u001b[0m\n",
      "Prompt after formatting:\n",
      "\u001b[32;1m\u001b[1;3mSystem: You are a helpful AI tokling to a human.\n",
      "Human: My name is Minjaelee\u001b[0m\n",
      "\n",
      "\u001b[1m> Finished chain.\u001b[0m\n"
     ]
    },
    {
     "data": {
      "text/plain": [
       "'Hello Minjaelee! How can I assist you today?'"
      ]
     },
     "execution_count": 9,
     "metadata": {},
     "output_type": "execute_result"
    }
   ],
   "source": [
    "from langchain.memory import ConversationSummaryBufferMemory\n",
    "from langchain.chat_models import ChatOpenAI\n",
    "from langchain.chains import LLMChain\n",
    "from langchain.prompts import PromptTemplate, ChatPromptTemplate, MessagesPlaceholder\n",
    "\n",
    "llm = ChatOpenAI(temperature=0.1)\n",
    "\n",
    "memory = ConversationSummaryBufferMemory(\n",
    "    llm=llm,\n",
    "    max_token_limit=80,\n",
    "    memory_key=\"chat_history_potato\",\n",
    "    return_messages=True\n",
    ")\n",
    "\n",
    "prompt = ChatPromptTemplate.from_messages([\n",
    "    (\"system\", \"You are a helpful AI tokling to a human.\"),\n",
    "    MessagesPlaceholder(variable_name=\"chat_history_potato\"),\n",
    "    (\"human\", \"{question}\"),\n",
    "])\n",
    "\n",
    "chain = LLMChain(\n",
    "    llm=llm,\n",
    "    memory=memory,\n",
    "    prompt=prompt,\n",
    "    verbose=True\n",
    ")\n",
    "\n",
    "chain.predict(question=\"My name is Minjaelee\") "
   ]
  },
  {
   "cell_type": "code",
   "execution_count": 4,
   "metadata": {},
   "outputs": [
    {
     "name": "stdout",
     "output_type": "stream",
     "text": [
      "\n",
      "\n",
      "\u001b[1m> Entering new LLMChain chain...\u001b[0m\n",
      "Prompt after formatting:\n",
      "\u001b[32;1m\u001b[1;3mSystem: You are a helpful AI tokling to a human.\n",
      "Human: My name is Minjaelee\n",
      "AI: Hello Minjaelee! How can I assist you today?\n",
      "Human: I'm living in Singapore\u001b[0m\n",
      "\n",
      "\u001b[1m> Finished chain.\u001b[0m\n"
     ]
    },
    {
     "data": {
      "text/plain": [
       "\"That's great to know, Minjaelee! Singapore is a vibrant and diverse city-state known for its modern infrastructure, rich cultural heritage, and bustling city life. How can I help you with anything related to Singapore?\""
      ]
     },
     "execution_count": 4,
     "metadata": {},
     "output_type": "execute_result"
    }
   ],
   "source": [
    "chain.predict(question=\"I'm living in Singapore\")"
   ]
  },
  {
   "cell_type": "code",
   "execution_count": 5,
   "metadata": {},
   "outputs": [
    {
     "name": "stdout",
     "output_type": "stream",
     "text": [
      "\n",
      "\n",
      "\u001b[1m> Entering new LLMChain chain...\u001b[0m\n",
      "Prompt after formatting:\n",
      "\u001b[32;1m\u001b[1;3mSystem: You are a helpful AI tokling to a human.\n",
      "System: The human introduces themselves as Minjaelee. The AI greets Minjaelee and asks how it can assist them.\n",
      "Human: I'm living in Singapore\n",
      "AI: That's great to know, Minjaelee! Singapore is a vibrant and diverse city-state known for its modern infrastructure, rich cultural heritage, and bustling city life. How can I help you with anything related to Singapore?\n",
      "Human: I have a wife and cat\u001b[0m\n",
      "\n",
      "\u001b[1m> Finished chain.\u001b[0m\n"
     ]
    },
    {
     "data": {
      "text/plain": [
       "\"That's wonderful, Minjaelee! Having a loving partner and a furry companion can bring so much joy to your life. If you have any questions or need assistance regarding your wife, cat, or anything related to them, feel free to ask. I'm here to help!\""
      ]
     },
     "execution_count": 5,
     "metadata": {},
     "output_type": "execute_result"
    }
   ],
   "source": [
    "chain.predict(question=\"I have a wife and cat\")"
   ]
  },
  {
   "cell_type": "code",
   "execution_count": 6,
   "metadata": {},
   "outputs": [
    {
     "name": "stdout",
     "output_type": "stream",
     "text": [
      "\n",
      "\n",
      "\u001b[1m> Entering new LLMChain chain...\u001b[0m\n",
      "Prompt after formatting:\n",
      "\u001b[32;1m\u001b[1;3mSystem: You are a helpful AI tokling to a human.\n",
      "System: The human introduces themselves as Minjaelee. The AI greets Minjaelee and asks how it can assist them. The AI acknowledges that Minjaelee is living in Singapore and describes Singapore as a vibrant and diverse city-state known for its modern infrastructure, rich cultural heritage, and bustling city life. The AI offers to help with anything related to Singapore.\n",
      "Human: I have a wife and cat\n",
      "AI: That's wonderful, Minjaelee! Having a loving partner and a furry companion can bring so much joy to your life. If you have any questions or need assistance regarding your wife, cat, or anything related to them, feel free to ask. I'm here to help!\n",
      "Human: I love to have a trip\u001b[0m\n",
      "\n",
      "\u001b[1m> Finished chain.\u001b[0m\n"
     ]
    },
    {
     "data": {
      "text/plain": [
       "\"That sounds like a great idea, Minjaelee! Going on a trip can be a fantastic way to relax, explore new places, and create lasting memories. If you're looking for travel recommendations or need assistance with planning your trip, I'm here to help. Just let me know where you'd like to go or any specific preferences you have, and I'll provide you with some suggestions and guidance.\""
      ]
     },
     "execution_count": 6,
     "metadata": {},
     "output_type": "execute_result"
    }
   ],
   "source": [
    "chain.predict(question=\"I love to have a trip\")"
   ]
  },
  {
   "cell_type": "code",
   "execution_count": 8,
   "metadata": {},
   "outputs": [
    {
     "name": "stdout",
     "output_type": "stream",
     "text": [
      "\n",
      "\n",
      "\u001b[1m> Entering new LLMChain chain...\u001b[0m\n",
      "Prompt after formatting:\n",
      "\u001b[32;1m\u001b[1;3mSystem: You are a helpful AI tokling to a human.\n",
      "System: The human introduces themselves as Minjaelee and the AI greets them, offering assistance. The AI acknowledges that Minjaelee is living in Singapore and describes the city-state as vibrant and diverse. The AI offers to help with anything related to Singapore. Minjaelee shares that they have a wife and a cat, and the AI expresses joy for them. The AI offers assistance regarding Minjaelee's wife, cat, or anything related to them. Minjaelee mentions their love for traveling, and the AI agrees that it can be a great way to relax and explore. The AI offers travel recommendations and assistance with trip planning.\n",
      "Human: What is my name?\u001b[0m\n",
      "\n",
      "\u001b[1m> Finished chain.\u001b[0m\n"
     ]
    },
    {
     "data": {
      "text/plain": [
       "'Your name is Minjaelee.'"
      ]
     },
     "execution_count": 8,
     "metadata": {},
     "output_type": "execute_result"
    }
   ],
   "source": [
    "chain.predict(question=\"What is my name?\")"
   ]
  },
  {
   "cell_type": "code",
   "execution_count": 7,
   "metadata": {},
   "outputs": [
    {
     "data": {
      "text/plain": [
       "{'chat_history_potato': [SystemMessage(content=\"The human introduces themselves as Minjaelee and the AI greets them, offering assistance. The AI acknowledges that Minjaelee is living in Singapore and describes the city-state as vibrant and diverse. The AI offers to help with anything related to Singapore. Minjaelee shares that they have a wife and a cat, and the AI expresses joy for them. The AI offers assistance regarding Minjaelee's wife, cat, or anything related to them. Minjaelee mentions their love for traveling, and the AI agrees that it can be a great way to relax and explore. The AI offers travel recommendations and assistance with trip planning.\")]}"
      ]
     },
     "execution_count": 7,
     "metadata": {},
     "output_type": "execute_result"
    }
   ],
   "source": [
    "memory.load_memory_variables({})"
   ]
  }
 ],
 "metadata": {
  "kernelspec": {
   "display_name": "env",
   "language": "python",
   "name": "python3"
  },
  "language_info": {
   "codemirror_mode": {
    "name": "ipython",
    "version": 3
   },
   "file_extension": ".py",
   "mimetype": "text/x-python",
   "name": "python",
   "nbconvert_exporter": "python",
   "pygments_lexer": "ipython3",
   "version": "3.11.6"
  }
 },
 "nbformat": 4,
 "nbformat_minor": 2
}
