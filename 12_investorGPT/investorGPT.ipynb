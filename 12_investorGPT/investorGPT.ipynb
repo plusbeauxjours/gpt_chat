{
 "cells": [
  {
   "cell_type": "code",
   "execution_count": 1,
   "metadata": {},
   "outputs": [
    {
     "name": "stdout",
     "output_type": "stream",
     "text": [
      "\n",
      "\n",
      "\u001b[1m> Entering new AgentExecutor chain...\u001b[0m\n",
      "\u001b[32;1m\u001b[1;3m\n",
      "Invoking: `StockMarketSymbolSearchTool` with `{'query': 'Stock Market Symbol for Cloudflare'}`\n",
      "\n",
      "\n",
      "\u001b[0m"
     ]
    },
    {
     "name": "stderr",
     "output_type": "stream",
     "text": [
      "/Users/minjaelee/Desktop/3_personal_projects/Gpt/fullstack-gpt/env/lib/python3.11/site-packages/langchain/utilities/duckduckgo_search.py:43: UserWarning: DDGS running in an async loop. This may cause errors. Use AsyncDDGS instead.\n",
      "  with DDGS() as ddgs:\n"
     ]
    },
    {
     "name": "stdout",
     "output_type": "stream",
     "text": [
      "\u001b[36;1m\u001b[1;3mStock Exchange NYSE Ticker Symbol NET Full Company Profile Financial Performance In 2022, Cloudflare's revenue was $975.24 million, an increase of 48.57% compared to the previous year's $656.43 million. Losses were -$193.38 million, -25.71% less than in 2021. Financial Statements Analyst Forecast Stock analysis for Cloudflare Inc (NET:New York) including stock price, stock chart, company news, key statistics, fundamentals and company profile. ... Market . closed. 82.65 +3.06 +3.84 % ... Cloudflare, Inc. - Stock Quote & Chart Stock Quote & Chart Stock Quote NYSE: NET 80.18 Jan 26, 2024 4:00 PM ET Today's Change -1.68 (-2.05%) Today's Volume 2,286,155 Today's Open 81.24 Previous Close 81.86 Intraday High 82.50 Intraday Low 79.80 52 Week High 87.17 52 Week Low 39.90 Pricing delayed by 20 minutes. Last Updated Jan 26, 2024 4:00 PM ET Cloudflare, Inc. is a global cloud services provider that delivers a range of services to businesses of all sizes and in all geographies. The Company's network serves as a scalable, unified control plane to deliver security, performance, and reliability across on-premise, hybrid, cloud, and software-as-a-service (SaaS) applications. 21 brokers have issued 12-month price objectives for Cloudflare's stock. Their NET share price targets range from $43.00 to $95.00. On average, they expect the company's share price to reach $69.09 in the next year. This suggests that the stock has a possible downside of 18.1%.\u001b[0m\u001b[32;1m\u001b[1;3mThe stock market symbol for Cloudflare is NET, and it is listed on the New York Stock Exchange (NYSE).\n",
      "\n",
      "In terms of financial performance, in 2022, Cloudflare's revenue was $975.24 million, which is a 48.57% increase compared to the previous year. However, the company had losses of -$193.38 million, which is 25.71% less than in 2021.\n",
      "\n",
      "Analysts have provided price targets for Cloudflare's stock. The range of price targets is from $43.00 to $95.00, with an average target of $69.09 for the next year. This suggests that there is a possible downside of 18.1% for the stock.\n",
      "\n",
      "To determine if Cloudflare is a potential good investment, it is important to consider various factors such as the company's financial health, growth prospects, competitive landscape, and industry trends. It is recommended to conduct a thorough analysis and consult with a financial advisor before making any investment decisions.\u001b[0m\n",
      "\n",
      "\u001b[1m> Finished chain.\u001b[0m\n"
     ]
    },
    {
     "data": {
      "text/plain": [
       "{'input': \"Give me information on Cloudflare's stock and help me analyze if it's a potential good investment. Also tell me what symbol does the stock have.\",\n",
       " 'output': \"The stock market symbol for Cloudflare is NET, and it is listed on the New York Stock Exchange (NYSE).\\n\\nIn terms of financial performance, in 2022, Cloudflare's revenue was $975.24 million, which is a 48.57% increase compared to the previous year. However, the company had losses of -$193.38 million, which is 25.71% less than in 2021.\\n\\nAnalysts have provided price targets for Cloudflare's stock. The range of price targets is from $43.00 to $95.00, with an average target of $69.09 for the next year. This suggests that there is a possible downside of 18.1% for the stock.\\n\\nTo determine if Cloudflare is a potential good investment, it is important to consider various factors such as the company's financial health, growth prospects, competitive landscape, and industry trends. It is recommended to conduct a thorough analysis and consult with a financial advisor before making any investment decisions.\"}"
      ]
     },
     "execution_count": 1,
     "metadata": {},
     "output_type": "execute_result"
    }
   ],
   "source": [
    "from typing import Any, Type\n",
    "from langchain.chat_models import ChatOpenAI\n",
    "from langchain.tools import BaseTool\n",
    "from pydantic import BaseModel, Field\n",
    "from langchain.agents import initialize_agent, AgentType\n",
    "from langchain.utilities import DuckDuckGoSearchAPIWrapper\n",
    "\n",
    "llm = ChatOpenAI(temperature=0.1)\n",
    "\n",
    "\n",
    "class StockMarketSymbolSearchToolArgsSchema(BaseModel):\n",
    "    query: str = Field(\n",
    "        description=\"The query you will search for.Example query: Stock Market Symbol for Apple Company\"\n",
    "    )\n",
    "\n",
    "\n",
    "class StockMarketSymbolSearchTool(BaseTool):\n",
    "    name = \"StockMarketSymbolSearchTool\"\n",
    "    description = \"\"\"\n",
    "    Use this tool to find the stock market symbol for a company.\n",
    "    It takes a query as an argument.\n",
    "    \n",
    "    \"\"\"\n",
    "    args_schema: Type[\n",
    "        StockMarketSymbolSearchToolArgsSchema\n",
    "    ] = StockMarketSymbolSearchToolArgsSchema\n",
    "\n",
    "    def _run(self, query):\n",
    "        ddg = DuckDuckGoSearchAPIWrapper()\n",
    "        return ddg.run(query)\n",
    "\n",
    "\n",
    "agent = initialize_agent(\n",
    "    llm=llm,\n",
    "    verbose=True,\n",
    "    agent=AgentType.OPENAI_FUNCTIONS,\n",
    "    handle_parsing_errors=True,\n",
    "    tools=[\n",
    "        StockMarketSymbolSearchTool(),\n",
    "    ],\n",
    ")\n",
    "\n",
    "prompt = \"Give me information on Cloudflare's stock and help me analyze if it's a potential good investment. Also tell me what symbol does the stock have.\"\n",
    "\n",
    "agent.invoke(prompt)"
   ]
  }
 ],
 "metadata": {
  "kernelspec": {
   "display_name": "env",
   "language": "python",
   "name": "python3"
  },
  "language_info": {
   "codemirror_mode": {
    "name": "ipython",
    "version": 3
   },
   "file_extension": ".py",
   "mimetype": "text/x-python",
   "name": "python",
   "nbconvert_exporter": "python",
   "pygments_lexer": "ipython3",
   "version": "3.11.7"
  }
 },
 "nbformat": 4,
 "nbformat_minor": 2
}
