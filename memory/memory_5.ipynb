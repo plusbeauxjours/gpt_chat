{
 "cells": [
  {
   "cell_type": "code",
   "execution_count": 17,
   "metadata": {},
   "outputs": [
    {
     "name": "stdout",
     "output_type": "stream",
     "text": [
      "\n",
      "\n",
      "\u001b[1m> Entering new LLMChain chain...\u001b[0m\n",
      "Prompt after formatting:\n",
      "\u001b[32;1m\u001b[1;3m\n",
      "    You are a helpful AI tokling to a human.\n",
      "\n",
      "    \n",
      "    Human: My name is Minjaelee\n",
      "    You:\n",
      "\u001b[0m\n",
      "\n",
      "\u001b[1m> Finished chain.\u001b[0m\n"
     ]
    },
    {
     "data": {
      "text/plain": [
       "'Hello Minjaelee! How can I assist you today?'"
      ]
     },
     "execution_count": 17,
     "metadata": {},
     "output_type": "execute_result"
    }
   ],
   "source": [
    "from langchain.memory import ConversationSummaryBufferMemory\n",
    "from langchain.chat_models import ChatOpenAI\n",
    "from langchain.chains import LLMChain\n",
    "from langchain.prompts import PromptTemplate\n",
    "\n",
    "llm = ChatOpenAI(temperature=0.1)\n",
    "\n",
    "memory = ConversationSummaryBufferMemory(\n",
    "    llm=llm,\n",
    "    max_token_limit=80,\n",
    "    memory_key=\"chat_history_potato\"\n",
    ")\n",
    "\n",
    "template = \"\"\"\n",
    "    You are a helpful AI tokling to a human.\n",
    "\n",
    "    {chat_history_potato}\n",
    "    Human: {question}\n",
    "    You:\n",
    "\"\"\"\n",
    "\n",
    "chain = LLMChain(\n",
    "    llm=llm,\n",
    "    memory=memory,\n",
    "    prompt=PromptTemplate.from_template(template),\n",
    "    verbose=True\n",
    ")\n",
    "\n",
    "chain.predict(question=\"My name is Minjaelee\") "
   ]
  },
  {
   "cell_type": "code",
   "execution_count": 18,
   "metadata": {},
   "outputs": [
    {
     "name": "stdout",
     "output_type": "stream",
     "text": [
      "\n",
      "\n",
      "\u001b[1m> Entering new LLMChain chain...\u001b[0m\n",
      "Prompt after formatting:\n",
      "\u001b[32;1m\u001b[1;3m\n",
      "    You are a helpful AI tokling to a human.\n",
      "\n",
      "    Human: My name is Minjaelee\n",
      "AI: Hello Minjaelee! How can I assist you today?\n",
      "    Human: I'm living in Singapore\n",
      "    You:\n",
      "\u001b[0m\n",
      "\n",
      "\u001b[1m> Finished chain.\u001b[0m\n"
     ]
    },
    {
     "data": {
      "text/plain": [
       "\"That's great! Singapore is a beautiful country known for its vibrant culture and modern cityscape. How can I assist you today, Minjaelee?\""
      ]
     },
     "execution_count": 18,
     "metadata": {},
     "output_type": "execute_result"
    }
   ],
   "source": [
    "chain.predict(question=\"I'm living in Singapore\")"
   ]
  },
  {
   "cell_type": "code",
   "execution_count": 19,
   "metadata": {},
   "outputs": [
    {
     "name": "stdout",
     "output_type": "stream",
     "text": [
      "\n",
      "\n",
      "\u001b[1m> Entering new LLMChain chain...\u001b[0m\n",
      "Prompt after formatting:\n",
      "\u001b[32;1m\u001b[1;3m\n",
      "    You are a helpful AI tokling to a human.\n",
      "\n",
      "    Human: My name is Minjaelee\n",
      "AI: Hello Minjaelee! How can I assist you today?\n",
      "Human: I'm living in Singapore\n",
      "AI: That's great! Singapore is a beautiful country known for its vibrant culture and modern cityscape. How can I assist you today, Minjaelee?\n",
      "    Human: I have a wife and cat\n",
      "    You:\n",
      "\u001b[0m\n",
      "\n",
      "\u001b[1m> Finished chain.\u001b[0m\n"
     ]
    },
    {
     "data": {
      "text/plain": [
       "\"That's wonderful, Minjaelee! Having a loving partner and a furry friend can bring so much joy to your life. Is there anything specific you would like assistance with regarding your wife or cat?\""
      ]
     },
     "execution_count": 19,
     "metadata": {},
     "output_type": "execute_result"
    }
   ],
   "source": [
    "chain.predict(question=\"I have a wife and cat\")"
   ]
  },
  {
   "cell_type": "code",
   "execution_count": 20,
   "metadata": {},
   "outputs": [
    {
     "name": "stdout",
     "output_type": "stream",
     "text": [
      "\n",
      "\n",
      "\u001b[1m> Entering new LLMChain chain...\u001b[0m\n",
      "Prompt after formatting:\n",
      "\u001b[32;1m\u001b[1;3m\n",
      "    You are a helpful AI tokling to a human.\n",
      "\n",
      "    System: The human introduces themselves as Minjaelee and mentions that they are living in Singapore. The AI acknowledges this and mentions that Singapore is known for its vibrant culture and modern cityscape. The AI then asks Minjaelee how it can assist them.\n",
      "Human: I have a wife and cat\n",
      "AI: That's wonderful, Minjaelee! Having a loving partner and a furry friend can bring so much joy to your life. Is there anything specific you would like assistance with regarding your wife or cat?\n",
      "    Human: I love to have a trip\n",
      "    You:\n",
      "\u001b[0m\n",
      "\n",
      "\u001b[1m> Finished chain.\u001b[0m\n"
     ]
    },
    {
     "data": {
      "text/plain": [
       "'That sounds like a great idea, Minjaelee! Going on a trip can be a wonderful way to create lasting memories and explore new places. Is there a particular destination you have in mind or any specific assistance you would like regarding planning your trip?'"
      ]
     },
     "execution_count": 20,
     "metadata": {},
     "output_type": "execute_result"
    }
   ],
   "source": [
    "chain.predict(question=\"I love to have a trip\")"
   ]
  },
  {
   "cell_type": "code",
   "execution_count": 21,
   "metadata": {},
   "outputs": [
    {
     "data": {
      "text/plain": [
       "{'chat_history_potato': \"System: Minjaelee introduces themselves as living in Singapore. The AI acknowledges this and mentions Singapore's vibrant culture and modern cityscape. The AI then asks Minjaelee how it can assist them. Minjaelee shares that they have a wife and a cat. The AI responds by saying that having a loving partner and a furry friend can bring joy to their life and asks if there is anything specific they would like assistance with regarding their wife or cat.\\nHuman: I love to have a trip\\nAI: That sounds like a great idea, Minjaelee! Going on a trip can be a wonderful way to create lasting memories and explore new places. Is there a particular destination you have in mind or any specific assistance you would like regarding planning your trip?\"}"
      ]
     },
     "execution_count": 21,
     "metadata": {},
     "output_type": "execute_result"
    }
   ],
   "source": [
    "memory.load_memory_variables({})"
   ]
  }
 ],
 "metadata": {
  "kernelspec": {
   "display_name": "env",
   "language": "python",
   "name": "python3"
  },
  "language_info": {
   "codemirror_mode": {
    "name": "ipython",
    "version": 3
   },
   "file_extension": ".py",
   "mimetype": "text/x-python",
   "name": "python",
   "nbconvert_exporter": "python",
   "pygments_lexer": "ipython3",
   "version": "3.11.6"
  }
 },
 "nbformat": 4,
 "nbformat_minor": 2
}
