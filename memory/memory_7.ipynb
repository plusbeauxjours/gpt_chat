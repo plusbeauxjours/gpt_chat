{
 "cells": [
  {
   "cell_type": "code",
   "execution_count": 13,
   "metadata": {},
   "outputs": [],
   "source": [
    "from langchain.memory import ConversationSummaryBufferMemory\n",
    "from langchain.chat_models import ChatOpenAI\n",
    "from langchain.schema.runnable import RunnablePassthrough\n",
    "from langchain.prompts import ChatPromptTemplate, MessagesPlaceholder\n",
    "\n",
    "llm = ChatOpenAI(temperature=0.1)\n",
    "\n",
    "memory = ConversationSummaryBufferMemory(\n",
    "    llm=llm,\n",
    "    max_token_limit=80,\n",
    "    memory_key=\"chat_history_potato\",\n",
    "    return_messages=True,\n",
    ") \n",
    "\n",
    "def load_memory(_):\n",
    "    return memory.load_memory_variables({})[\"chat_history_potato\"]\n",
    "\n",
    "prompt = ChatPromptTemplate.from_messages([\n",
    "    (\"system\", \"You are a helpful AI tokling to a human.\"),\n",
    "    MessagesPlaceholder(variable_name=\"chat_history_potato\"),\n",
    "    (\"human\", \"{question}\"),\n",
    "])\n",
    "\n",
    "chain = RunnablePassthrough.assign(chat_history_potato=load_memory) | prompt | llm\n",
    "\n",
    "def invoke_chain(question):\n",
    "    result = chain.invoke({\"question\": question})\n",
    "    memory.save_context(\n",
    "        {\"input\": question},\n",
    "        {\"output\": result.content}\n",
    "    )\n",
    "    print(result)\n",
    "\n"
   ]
  },
  {
   "cell_type": "code",
   "execution_count": 14,
   "metadata": {},
   "outputs": [
    {
     "name": "stdout",
     "output_type": "stream",
     "text": [
      "content='Hello Minjaelee! How can I assist you today?'\n",
      "content=\"That's great! Singapore is a vibrant and diverse city-state known for its modern infrastructure, multicultural society, and thriving economy. How can I help you with anything related to Singapore?\"\n"
     ]
    }
   ],
   "source": [
    "invoke_chain(\"My name is Minjaelee\")\n",
    "invoke_chain(\"I'm living in Singapore\")"
   ]
  },
  {
   "cell_type": "code",
   "execution_count": 15,
   "metadata": {},
   "outputs": [
    {
     "name": "stdout",
     "output_type": "stream",
     "text": [
      "content=\"That's wonderful! Having a loving partner and a furry friend can bring so much joy to your life. Is there anything specific you would like assistance with regarding your wife or your cat?\"\n"
     ]
    }
   ],
   "source": [
    "invoke_chain(\"I have a wife and cat\")\n"
   ]
  },
  {
   "cell_type": "code",
   "execution_count": 16,
   "metadata": {},
   "outputs": [
    {
     "name": "stdout",
     "output_type": "stream",
     "text": [
      "content=\"That sounds like a great idea! Going on a trip can be a wonderful way to relax, explore new places, and create lasting memories. If you're looking for some assistance with planning your trip, I'd be happy to help. Just let me know where you'd like to go, your budget, and any specific preferences you have, and I can provide you with some recommendations and tips.\"\n"
     ]
    }
   ],
   "source": [
    "invoke_chain(\"I love to have a trip\")\n"
   ]
  },
  {
   "cell_type": "code",
   "execution_count": 17,
   "metadata": {},
   "outputs": [
    {
     "name": "stdout",
     "output_type": "stream",
     "text": [
      "content=\"I apologize, but as an AI, I don't have access to personal information unless you provide it to me. My purpose is to assist and provide information to the best of my abilities. Is there anything else I can help you with?\"\n"
     ]
    }
   ],
   "source": [
    "invoke_chain(\"What is my name?\")\n"
   ]
  },
  {
   "cell_type": "code",
   "execution_count": null,
   "metadata": {},
   "outputs": [],
   "source": []
  }
 ],
 "metadata": {
  "kernelspec": {
   "display_name": "env",
   "language": "python",
   "name": "python3"
  },
  "language_info": {
   "codemirror_mode": {
    "name": "ipython",
    "version": 3
   },
   "file_extension": ".py",
   "mimetype": "text/x-python",
   "name": "python",
   "nbconvert_exporter": "python",
   "pygments_lexer": "ipython3",
   "version": "3.11.6"
  }
 },
 "nbformat": 4,
 "nbformat_minor": 2
}
