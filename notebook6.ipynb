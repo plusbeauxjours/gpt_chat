{
 "cells": [
  {
   "cell_type": "code",
   "execution_count": 1,
   "metadata": {},
   "outputs": [
    {
     "name": "stdout",
     "output_type": "stream",
     "text": [
      "\u001b[32;1m\u001b[1;3m[llm/start]\u001b[0m \u001b[1m[1:llm:ChatOpenAI] Entering LLM run with input:\n",
      "\u001b[0m{\n",
      "  \"prompts\": [\n",
      "    \"Human: How much should I spend money for 5years in Bali?\"\n",
      "  ]\n",
      "}\n",
      "\u001b[36;1m\u001b[1;3m[llm/end]\u001b[0m \u001b[1m[1:llm:ChatOpenAI] [33.58s] Exiting LLM run with output:\n",
      "\u001b[0m{\n",
      "  \"generations\": [\n",
      "    [\n",
      "      {\n",
      "        \"text\": \"The amount of money you should spend in Bali for 5 years can vary greatly depending on your lifestyle, preferences, and spending habits. However, here is a rough estimate of some common expenses:\\n\\n1. Accommodation: Renting a modest apartment or villa can cost anywhere from $300 to $1,000 per month, depending on the location and amenities.\\n\\n2. Food: Eating out at local warungs (small restaurants) can cost around $2 to $5 per meal, while dining at more upscale restaurants can range from $10 to $30 per meal.\\n\\n3. Transportation: Renting a scooter can cost around $50 to $100 per month, while using ride-hailing services or taxis can add up to around $100 to $200 per month.\\n\\n4. Utilities: Monthly expenses for electricity, water, and internet can range from $50 to $100.\\n\\n5. Health insurance: Depending on your age and coverage, health insurance can cost anywhere from $50 to $200 per month.\\n\\n6. Entertainment and leisure activities: This can vary greatly depending on your preferences, but budgeting around $200 to $500 per month for activities such as surfing, yoga classes, spa treatments, and exploring the island is a reasonable estimate.\\n\\n7. Miscellaneous expenses: This includes shopping, personal care items, and other miscellaneous expenses. Budgeting around $100 to $300 per month should be sufficient.\\n\\nKeep in mind that these estimates are rough and can vary greatly depending on your lifestyle choices. It's always a good idea to have some extra savings for unexpected expenses or emergencies.\",\n",
      "        \"generation_info\": {\n",
      "          \"finish_reason\": \"stop\"\n",
      "        },\n",
      "        \"type\": \"ChatGeneration\",\n",
      "        \"message\": {\n",
      "          \"lc\": 1,\n",
      "          \"type\": \"constructor\",\n",
      "          \"id\": [\n",
      "            \"langchain\",\n",
      "            \"schema\",\n",
      "            \"messages\",\n",
      "            \"AIMessage\"\n",
      "          ],\n",
      "          \"kwargs\": {\n",
      "            \"content\": \"The amount of money you should spend in Bali for 5 years can vary greatly depending on your lifestyle, preferences, and spending habits. However, here is a rough estimate of some common expenses:\\n\\n1. Accommodation: Renting a modest apartment or villa can cost anywhere from $300 to $1,000 per month, depending on the location and amenities.\\n\\n2. Food: Eating out at local warungs (small restaurants) can cost around $2 to $5 per meal, while dining at more upscale restaurants can range from $10 to $30 per meal.\\n\\n3. Transportation: Renting a scooter can cost around $50 to $100 per month, while using ride-hailing services or taxis can add up to around $100 to $200 per month.\\n\\n4. Utilities: Monthly expenses for electricity, water, and internet can range from $50 to $100.\\n\\n5. Health insurance: Depending on your age and coverage, health insurance can cost anywhere from $50 to $200 per month.\\n\\n6. Entertainment and leisure activities: This can vary greatly depending on your preferences, but budgeting around $200 to $500 per month for activities such as surfing, yoga classes, spa treatments, and exploring the island is a reasonable estimate.\\n\\n7. Miscellaneous expenses: This includes shopping, personal care items, and other miscellaneous expenses. Budgeting around $100 to $300 per month should be sufficient.\\n\\nKeep in mind that these estimates are rough and can vary greatly depending on your lifestyle choices. It's always a good idea to have some extra savings for unexpected expenses or emergencies.\",\n",
      "            \"additional_kwargs\": {}\n",
      "          }\n",
      "        }\n",
      "      }\n",
      "    ]\n",
      "  ],\n",
      "  \"llm_output\": {\n",
      "    \"token_usage\": {\n",
      "      \"prompt_tokens\": 20,\n",
      "      \"completion_tokens\": 317,\n",
      "      \"total_tokens\": 337\n",
      "    },\n",
      "    \"model_name\": \"gpt-3.5-turbo\",\n",
      "    \"system_fingerprint\": null\n",
      "  },\n",
      "  \"run\": null\n",
      "}\n"
     ]
    },
    {
     "data": {
      "text/plain": [
       "\"The amount of money you should spend in Bali for 5 years can vary greatly depending on your lifestyle, preferences, and spending habits. However, here is a rough estimate of some common expenses:\\n\\n1. Accommodation: Renting a modest apartment or villa can cost anywhere from $300 to $1,000 per month, depending on the location and amenities.\\n\\n2. Food: Eating out at local warungs (small restaurants) can cost around $2 to $5 per meal, while dining at more upscale restaurants can range from $10 to $30 per meal.\\n\\n3. Transportation: Renting a scooter can cost around $50 to $100 per month, while using ride-hailing services or taxis can add up to around $100 to $200 per month.\\n\\n4. Utilities: Monthly expenses for electricity, water, and internet can range from $50 to $100.\\n\\n5. Health insurance: Depending on your age and coverage, health insurance can cost anywhere from $50 to $200 per month.\\n\\n6. Entertainment and leisure activities: This can vary greatly depending on your preferences, but budgeting around $200 to $500 per month for activities such as surfing, yoga classes, spa treatments, and exploring the island is a reasonable estimate.\\n\\n7. Miscellaneous expenses: This includes shopping, personal care items, and other miscellaneous expenses. Budgeting around $100 to $300 per month should be sufficient.\\n\\nKeep in mind that these estimates are rough and can vary greatly depending on your lifestyle choices. It's always a good idea to have some extra savings for unexpected expenses or emergencies.\""
      ]
     },
     "execution_count": 1,
     "metadata": {},
     "output_type": "execute_result"
    }
   ],
   "source": [
    "from langchain.chat_models import ChatOpenAI\n",
    "from langchain.callbacks import StreamingStdOutCallbackHandler\n",
    "from langchain.globals import set_llm_cache, set_debug\n",
    "from langchain.cache import InMemoryCache, SQLiteCache\n",
    "\n",
    "# set_llm_cache(InMemoryCache())\n",
    "set_llm_cache(SQLiteCache(\"cache.db\"))\n",
    "set_debug(True)\n",
    "\n",
    "chat = ChatOpenAI(\n",
    "    temperature=0.1, \n",
    "    # streaming=True,\n",
    "    # callbacks=[\n",
    "    #     StreamingStdOutCallbackHandler(),\n",
    "    # ]\n",
    ")\n",
    "\n",
    "chat.predict(\"How much should I spend money for 5years in Bali?\")"
   ]
  }
 ],
 "metadata": {
  "kernelspec": {
   "display_name": "env",
   "language": "python",
   "name": "python3"
  },
  "language_info": {
   "codemirror_mode": {
    "name": "ipython",
    "version": 3
   },
   "file_extension": ".py",
   "mimetype": "text/x-python",
   "name": "python",
   "nbconvert_exporter": "python",
   "pygments_lexer": "ipython3",
   "version": "3.11.6"
  }
 },
 "nbformat": 4,
 "nbformat_minor": 2
}
