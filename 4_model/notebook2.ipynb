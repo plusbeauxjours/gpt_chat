{
 "cells": [
  {
   "cell_type": "code",
   "execution_count": 15,
   "metadata": {},
   "outputs": [],
   "source": [
    "from langchain.chat_models import ChatOpenAI\n",
    "from langchain.prompts import ChatPromptTemplate\n",
    "from langchain.callbacks import StreamingStdOutCallbackHandler\n",
    "\n",
    "chat = ChatOpenAI(\n",
    "    temperature=0.1, \n",
    "    streaming=True,\n",
    "    callbacks=[StreamingStdOutCallbackHandler()]\n",
    "    )\n",
    "\n",
    "chef_prompt = ChatPromptTemplate.from_messages([\n",
    "    (\"system\", \"You are a world-class international chef. You create easy to follow recipies for any type of cuisine with easy to find ingredients.\"),\n",
    "    (\"human\", \"I want to cook {cuisine} food.\"),\n",
    "])\n",
    "\n",
    "chef_chain = chef_prompt | chat\n"
   ]
  },
  {
   "cell_type": "code",
   "execution_count": 16,
   "metadata": {},
   "outputs": [],
   "source": [
    "veg_chef_prompt = ChatPromptTemplate.from_messages([\n",
    "    (\"system\", \"You are a vegetarian chef specialized on making traditional recipes vegetarian. You find alternative ingredients and explain their preparation. You don't radically modify the recipe. If there is no alternative for a food just say you don't know how to recipe it.\"), \n",
    "    (\"human\", \"{recipe}\")\n",
    "])\n",
    "\n",
    "veg_chain = veg_chef_prompt | chat\n"
   ]
  },
  {
   "cell_type": "code",
   "execution_count": 17,
   "metadata": {},
   "outputs": [
    {
     "name": "stdout",
     "output_type": "stream",
     "text": [
      "Great choice! Indian cuisine is known for its rich flavors and aromatic spices. Let's start with a classic Indian dish called Butter Chicken. Here's an easy recipe for you:\n",
      "\n",
      "Ingredients:\n",
      "- 500g boneless chicken, cut into bite-sized pieces\n",
      "- 2 tablespoons butter\n",
      "- 1 onion, finely chopped\n",
      "- 2 cloves of garlic, minced\n",
      "- 1-inch piece of ginger, grated\n",
      "- 2 teaspoons garam masala\n",
      "- 1 teaspoon turmeric powder\n",
      "- 1 teaspoon chili powder (adjust according to your spice preference)\n",
      "- 1 cup tomato puree\n",
      "- 1/2 cup heavy cream\n",
      "- Salt to taste\n",
      "- Fresh cilantro leaves for garnish\n",
      "\n",
      "Instructions:\n",
      "1. Heat the butter in a large pan over medium heat. Add the chopped onion and sauté until it turns golden brown.\n",
      "2. Add the minced garlic and grated ginger to the pan. Cook for another minute until fragrant.\n",
      "3. In a small bowl, mix together the garam masala, turmeric powder, and chili powder. Add this spice mixture to the pan and cook for a minute to release the flavors.\n",
      "4. Add the chicken pieces to the pan and cook until they are lightly browned on all sides.\n",
      "5. Pour in the tomato puree and season with salt. Stir well to combine all the ingredients.\n",
      "6. Reduce the heat to low, cover the pan, and let the chicken simmer for about 15-20 minutes, or until it is cooked through and tender.\n",
      "7. Stir in the heavy cream and simmer for an additional 5 minutes to allow the flavors to meld together.\n",
      "8. Taste and adjust the seasoning if needed.\n",
      "9. Garnish with fresh cilantro leaves before serving.\n",
      "10. Serve the Butter Chicken with steamed basmati rice or naan bread.\n",
      "\n",
      "Enjoy your homemade Butter Chicken! Feel free to adjust the spice levels and add more cream if you prefer a richer sauce.Great choice! Butter Chicken is a delicious Indian dish that can easily be made vegetarian. Here's a modified version of the recipe using alternative ingredients:\n",
      "\n",
      "Ingredients:\n",
      "- 500g paneer (Indian cottage cheese), cut into bite-sized pieces\n",
      "- 2 tablespoons butter (you can use vegan butter or coconut oil as a substitute)\n",
      "- 1 onion, finely chopped\n",
      "- 2 cloves of garlic, minced\n",
      "- 1-inch piece of ginger, grated\n",
      "- 2 teaspoons garam masala\n",
      "- 1 teaspoon turmeric powder\n",
      "- 1 teaspoon chili powder (adjust according to your spice preference)\n",
      "- 1 cup tomato puree\n",
      "- 1/2 cup coconut cream (as a substitute for heavy cream)\n",
      "- Salt to taste\n",
      "- Fresh cilantro leaves for garnish\n",
      "\n",
      "Instructions:\n",
      "1. Heat the butter (or vegan butter/coconut oil) in a large pan over medium heat. Add the chopped onion and sauté until it turns golden brown.\n",
      "2. Add the minced garlic and grated ginger to the pan. Cook for another minute until fragrant.\n",
      "3. In a small bowl, mix together the garam masala, turmeric powder, and chili powder. Add this spice mixture to the pan and cook for a minute to release the flavors.\n",
      "4. Add the paneer pieces to the pan and cook until they are lightly browned on all sides.\n",
      "5. Pour in the tomato puree and season with salt. Stir well to combine all the ingredients.\n",
      "6. Reduce the heat to low, cover the pan, and let the paneer simmer for about 15-20 minutes, or until it is cooked through and tender.\n",
      "7. Stir in the coconut cream and simmer for an additional 5 minutes to allow the flavors to meld together.\n",
      "8. Taste and adjust the seasoning if needed.\n",
      "9. Garnish with fresh cilantro leaves before serving.\n",
      "10. Serve the Butter Paneer with steamed basmati rice or naan bread.\n",
      "\n",
      "Enjoy your vegetarian Butter Paneer! It's a flavorful and creamy alternative to the traditional Butter Chicken."
     ]
    },
    {
     "data": {
      "text/plain": [
       "AIMessageChunk(content=\"Great choice! Butter Chicken is a delicious Indian dish that can easily be made vegetarian. Here's a modified version of the recipe using alternative ingredients:\\n\\nIngredients:\\n- 500g paneer (Indian cottage cheese), cut into bite-sized pieces\\n- 2 tablespoons butter (you can use vegan butter or coconut oil as a substitute)\\n- 1 onion, finely chopped\\n- 2 cloves of garlic, minced\\n- 1-inch piece of ginger, grated\\n- 2 teaspoons garam masala\\n- 1 teaspoon turmeric powder\\n- 1 teaspoon chili powder (adjust according to your spice preference)\\n- 1 cup tomato puree\\n- 1/2 cup coconut cream (as a substitute for heavy cream)\\n- Salt to taste\\n- Fresh cilantro leaves for garnish\\n\\nInstructions:\\n1. Heat the butter (or vegan butter/coconut oil) in a large pan over medium heat. Add the chopped onion and sauté until it turns golden brown.\\n2. Add the minced garlic and grated ginger to the pan. Cook for another minute until fragrant.\\n3. In a small bowl, mix together the garam masala, turmeric powder, and chili powder. Add this spice mixture to the pan and cook for a minute to release the flavors.\\n4. Add the paneer pieces to the pan and cook until they are lightly browned on all sides.\\n5. Pour in the tomato puree and season with salt. Stir well to combine all the ingredients.\\n6. Reduce the heat to low, cover the pan, and let the paneer simmer for about 15-20 minutes, or until it is cooked through and tender.\\n7. Stir in the coconut cream and simmer for an additional 5 minutes to allow the flavors to meld together.\\n8. Taste and adjust the seasoning if needed.\\n9. Garnish with fresh cilantro leaves before serving.\\n10. Serve the Butter Paneer with steamed basmati rice or naan bread.\\n\\nEnjoy your vegetarian Butter Paneer! It's a flavorful and creamy alternative to the traditional Butter Chicken.\")"
      ]
     },
     "execution_count": 17,
     "metadata": {},
     "output_type": "execute_result"
    }
   ],
   "source": [
    "final_chain = {\"recipe\": chef_chain} | veg_chain\n",
    "\n",
    "#  chef_chain에 직접 invoke하지 않고, final_chain에 invoke한다\n",
    "final_chain.invoke({\n",
    "    \"cuisine\": \"indian\",\n",
    "})\n"
   ]
  }
 ],
 "metadata": {
  "kernelspec": {
   "display_name": "env",
   "language": "python",
   "name": "python3"
  },
  "language_info": {
   "codemirror_mode": {
    "name": "ipython",
    "version": 3
   },
   "file_extension": ".py",
   "mimetype": "text/x-python",
   "name": "python",
   "nbconvert_exporter": "python",
   "pygments_lexer": "ipython3",
   "version": "3.11.6"
  }
 },
 "nbformat": 4,
 "nbformat_minor": 2
}
